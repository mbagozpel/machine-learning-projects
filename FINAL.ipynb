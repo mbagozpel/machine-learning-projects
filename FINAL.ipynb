{
  "nbformat": 4,
  "nbformat_minor": 0,
  "metadata": {
    "colab": {
      "name": "FINAL.ipynb",
      "provenance": [],
      "collapsed_sections": [],
      "toc_visible": true,
      "mount_file_id": "1NKihmaLQbdV1OaQVDO3XEUI2XbmweA-X",
      "authorship_tag": "ABX9TyO+LlNbEo530UQIQdPVk69C",
      "include_colab_link": true
    },
    "kernelspec": {
      "name": "python3",
      "display_name": "Python 3"
    },
    "accelerator": "GPU"
  },
  "cells": [
    {
      "cell_type": "markdown",
      "metadata": {
        "id": "view-in-github",
        "colab_type": "text"
      },
      "source": [
        "<a href=\"https://colab.research.google.com/github/xtrimkeyz/gozpel/blob/master/FINAL.ipynb\" target=\"_parent\"><img src=\"https://colab.research.google.com/assets/colab-badge.svg\" alt=\"Open In Colab\"/></a>"
      ]
    },
    {
      "cell_type": "markdown",
      "metadata": {
        "id": "_LCCMkCwBZBL"
      },
      "source": [
        "# MALWARE DETECTION\n",
        "**Aim:**\n",
        "\n",
        "To develop a Machine Learning-based framework for malware detection using artificial neural network (ANN) algorithm.\n",
        "Test and evaluate the results to determine the effectiveness and efficiencies of the machine learning-based algorithms in (1) above\n",
        "\n",
        "### DATA:\n",
        "\n",
        "\n"
      ]
    },
    {
      "cell_type": "markdown",
      "metadata": {
        "id": "fXUqqhOgCNRL"
      },
      "source": [
        "IMPORTATION OF LIBRARIES"
      ]
    },
    {
      "cell_type": "code",
      "metadata": {
        "id": "JfEEOm6UCPKl",
        "colab": {
          "base_uri": "https://localhost:8080/",
          "height": 71
        },
        "outputId": "2e6485c9-8f97-46d5-ea52-77c3ea1160d6"
      },
      "source": [
        "# Common import for basic EDA\n",
        "import pandas as pd\n",
        "import numpy as np\n",
        "import matplotlib.pyplot as plt\n",
        "import seaborn as sns\n",
        "\n",
        "# other imports\n",
        "import tensorflow as tf\n",
        "from tensorflow import keras\n",
        "from tensorflow import feature_column\n",
        "from sklearn.model_selection import train_test_split"
      ],
      "execution_count": null,
      "outputs": [
        {
          "output_type": "stream",
          "text": [
            "/usr/local/lib/python3.6/dist-packages/statsmodels/tools/_testing.py:19: FutureWarning: pandas.util.testing is deprecated. Use the functions in the public API at pandas.testing instead.\n",
            "  import pandas.util.testing as tm\n"
          ],
          "name": "stderr"
        }
      ]
    },
    {
      "cell_type": "markdown",
      "metadata": {
        "id": "P2Ek0xPVCs8Z"
      },
      "source": [
        "### Basic EDA and Feature Selection"
      ]
    },
    {
      "cell_type": "code",
      "metadata": {
        "id": "2rIxfeFsdWSR",
        "colab": {
          "base_uri": "https://localhost:8080/",
          "height": 275
        },
        "outputId": "84bc5b74-aaac-4d11-c2f0-f1514397d2fd"
      },
      "source": [
        "# load the dataset\n",
        "df = pd.read_csv('drive/My Drive/Dog vision/Kaggle-data.csv')\n",
        "df.head()"
      ],
      "execution_count": null,
      "outputs": [
        {
          "output_type": "stream",
          "text": [
            "/usr/local/lib/python3.6/dist-packages/IPython/core/interactiveshell.py:2718: DtypeWarning: Columns (2) have mixed types.Specify dtype option on import or set low_memory=False.\n",
            "  interactivity=interactivity, compiler=compiler, result=result)\n"
          ],
          "name": "stderr"
        },
        {
          "output_type": "execute_result",
          "data": {
            "text/html": [
              "<div>\n",
              "<style scoped>\n",
              "    .dataframe tbody tr th:only-of-type {\n",
              "        vertical-align: middle;\n",
              "    }\n",
              "\n",
              "    .dataframe tbody tr th {\n",
              "        vertical-align: top;\n",
              "    }\n",
              "\n",
              "    .dataframe thead th {\n",
              "        text-align: right;\n",
              "    }\n",
              "</style>\n",
              "<table border=\"1\" class=\"dataframe\">\n",
              "  <thead>\n",
              "    <tr style=\"text-align: right;\">\n",
              "      <th></th>\n",
              "      <th>ID</th>\n",
              "      <th>md5</th>\n",
              "      <th>Machine</th>\n",
              "      <th>SizeOfOptionalHeader</th>\n",
              "      <th>Characteristics</th>\n",
              "      <th>MajorLinkerVersion</th>\n",
              "      <th>MinorLinkerVersion</th>\n",
              "      <th>SizeOfCode</th>\n",
              "      <th>SizeOfInitializedData</th>\n",
              "      <th>SizeOfUninitializedData</th>\n",
              "      <th>AddressOfEntryPoint</th>\n",
              "      <th>BaseOfCode</th>\n",
              "      <th>BaseOfData</th>\n",
              "      <th>ImageBase</th>\n",
              "      <th>SectionAlignment</th>\n",
              "      <th>FileAlignment</th>\n",
              "      <th>MajorOperatingSystemVersion</th>\n",
              "      <th>MinorOperatingSystemVersion</th>\n",
              "      <th>MajorImageVersion</th>\n",
              "      <th>MinorImageVersion</th>\n",
              "      <th>MajorSubsystemVersion</th>\n",
              "      <th>MinorSubsystemVersion</th>\n",
              "      <th>SizeOfImage</th>\n",
              "      <th>SizeOfHeaders</th>\n",
              "      <th>CheckSum</th>\n",
              "      <th>Subsystem</th>\n",
              "      <th>DllCharacteristics</th>\n",
              "      <th>SizeOfStackReserve</th>\n",
              "      <th>SizeOfStackCommit</th>\n",
              "      <th>SizeOfHeapReserve</th>\n",
              "      <th>SizeOfHeapCommit</th>\n",
              "      <th>LoaderFlags</th>\n",
              "      <th>NumberOfRvaAndSizes</th>\n",
              "      <th>SectionsNb</th>\n",
              "      <th>SectionsMeanEntropy</th>\n",
              "      <th>SectionsMinEntropy</th>\n",
              "      <th>SectionsMaxEntropy</th>\n",
              "      <th>SectionsMeanRawsize</th>\n",
              "      <th>SectionsMinRawsize</th>\n",
              "      <th>SectionMaxRawsize</th>\n",
              "      <th>SectionsMeanVirtualsize</th>\n",
              "      <th>SectionsMinVirtualsize</th>\n",
              "      <th>SectionMaxVirtualsize</th>\n",
              "      <th>ImportsNbDLL</th>\n",
              "      <th>ImportsNb</th>\n",
              "      <th>ImportsNbOrdinal</th>\n",
              "      <th>ExportNb</th>\n",
              "      <th>ResourcesNb</th>\n",
              "      <th>ResourcesMeanEntropy</th>\n",
              "      <th>ResourcesMinEntropy</th>\n",
              "      <th>ResourcesMaxEntropy</th>\n",
              "      <th>ResourcesMeanSize</th>\n",
              "      <th>ResourcesMinSize</th>\n",
              "      <th>ResourcesMaxSize</th>\n",
              "      <th>LoadConfigurationSize</th>\n",
              "      <th>VersionInformationSize</th>\n",
              "      <th>legitimate</th>\n",
              "      <th>Unnamed: 57</th>\n",
              "    </tr>\n",
              "  </thead>\n",
              "  <tbody>\n",
              "    <tr>\n",
              "      <th>0</th>\n",
              "      <td>1</td>\n",
              "      <td>b69acb3bb133974e48229627663f96d4</td>\n",
              "      <td>332</td>\n",
              "      <td>224</td>\n",
              "      <td>8450</td>\n",
              "      <td>8.0</td>\n",
              "      <td>0</td>\n",
              "      <td>16896</td>\n",
              "      <td>8192</td>\n",
              "      <td>0</td>\n",
              "      <td>16947</td>\n",
              "      <td>4096</td>\n",
              "      <td>24576</td>\n",
              "      <td>4194304.0</td>\n",
              "      <td>4096</td>\n",
              "      <td>512</td>\n",
              "      <td>6</td>\n",
              "      <td>0</td>\n",
              "      <td>6</td>\n",
              "      <td>0</td>\n",
              "      <td>5</td>\n",
              "      <td>1</td>\n",
              "      <td>40960</td>\n",
              "      <td>1024</td>\n",
              "      <td>84427</td>\n",
              "      <td>2</td>\n",
              "      <td>320</td>\n",
              "      <td>262144</td>\n",
              "      <td>4096</td>\n",
              "      <td>1048576</td>\n",
              "      <td>4096</td>\n",
              "      <td>0</td>\n",
              "      <td>16</td>\n",
              "      <td>4</td>\n",
              "      <td>3.761598</td>\n",
              "      <td>2.446533</td>\n",
              "      <td>6.450720</td>\n",
              "      <td>6016.000000</td>\n",
              "      <td>1024</td>\n",
              "      <td>16896</td>\n",
              "      <td>6096.250000</td>\n",
              "      <td>960.0</td>\n",
              "      <td>16731</td>\n",
              "      <td>3</td>\n",
              "      <td>44</td>\n",
              "      <td>0</td>\n",
              "      <td>31</td>\n",
              "      <td>1</td>\n",
              "      <td>3.492126</td>\n",
              "      <td>3.492126</td>\n",
              "      <td>3.492126</td>\n",
              "      <td>864.0</td>\n",
              "      <td>864.0</td>\n",
              "      <td>864</td>\n",
              "      <td>72</td>\n",
              "      <td>0</td>\n",
              "      <td>1</td>\n",
              "      <td>NaN</td>\n",
              "    </tr>\n",
              "    <tr>\n",
              "      <th>1</th>\n",
              "      <td>2</td>\n",
              "      <td>1cbee4b3725629bd0aa6ac2ff500925f</td>\n",
              "      <td>332</td>\n",
              "      <td>224</td>\n",
              "      <td>258</td>\n",
              "      <td>9.0</td>\n",
              "      <td>0</td>\n",
              "      <td>84480</td>\n",
              "      <td>25600</td>\n",
              "      <td>0</td>\n",
              "      <td>10973</td>\n",
              "      <td>4096</td>\n",
              "      <td>90112</td>\n",
              "      <td>65536.0</td>\n",
              "      <td>4096</td>\n",
              "      <td>512</td>\n",
              "      <td>5</td>\n",
              "      <td>0</td>\n",
              "      <td>9</td>\n",
              "      <td>0</td>\n",
              "      <td>4</td>\n",
              "      <td>20</td>\n",
              "      <td>126976</td>\n",
              "      <td>1024</td>\n",
              "      <td>180181</td>\n",
              "      <td>9</td>\n",
              "      <td>320</td>\n",
              "      <td>65536</td>\n",
              "      <td>4096</td>\n",
              "      <td>1048576</td>\n",
              "      <td>4096</td>\n",
              "      <td>0</td>\n",
              "      <td>16</td>\n",
              "      <td>5</td>\n",
              "      <td>4.973822</td>\n",
              "      <td>3.269968</td>\n",
              "      <td>6.504334</td>\n",
              "      <td>22016.000000</td>\n",
              "      <td>1024</td>\n",
              "      <td>84480</td>\n",
              "      <td>21902.800000</td>\n",
              "      <td>992.0</td>\n",
              "      <td>84410</td>\n",
              "      <td>2</td>\n",
              "      <td>102</td>\n",
              "      <td>100</td>\n",
              "      <td>2</td>\n",
              "      <td>1</td>\n",
              "      <td>3.486827</td>\n",
              "      <td>3.486827</td>\n",
              "      <td>3.486827</td>\n",
              "      <td>892.0</td>\n",
              "      <td>892.0</td>\n",
              "      <td>892</td>\n",
              "      <td>72</td>\n",
              "      <td>0</td>\n",
              "      <td>1</td>\n",
              "      <td>NaN</td>\n",
              "    </tr>\n",
              "    <tr>\n",
              "      <th>2</th>\n",
              "      <td>3</td>\n",
              "      <td>b7027cf0cd31c820928950cbfe7e91ef</td>\n",
              "      <td>332</td>\n",
              "      <td>224</td>\n",
              "      <td>8450</td>\n",
              "      <td>8.0</td>\n",
              "      <td>0</td>\n",
              "      <td>4608</td>\n",
              "      <td>3584</td>\n",
              "      <td>0</td>\n",
              "      <td>6452</td>\n",
              "      <td>4096</td>\n",
              "      <td>12288</td>\n",
              "      <td>264962048.0</td>\n",
              "      <td>4096</td>\n",
              "      <td>512</td>\n",
              "      <td>6</td>\n",
              "      <td>0</td>\n",
              "      <td>6</td>\n",
              "      <td>0</td>\n",
              "      <td>6</td>\n",
              "      <td>0</td>\n",
              "      <td>24576</td>\n",
              "      <td>1024</td>\n",
              "      <td>10208</td>\n",
              "      <td>2</td>\n",
              "      <td>320</td>\n",
              "      <td>262144</td>\n",
              "      <td>4096</td>\n",
              "      <td>1048576</td>\n",
              "      <td>4096</td>\n",
              "      <td>0</td>\n",
              "      <td>16</td>\n",
              "      <td>4</td>\n",
              "      <td>3.329824</td>\n",
              "      <td>0.278747</td>\n",
              "      <td>6.051986</td>\n",
              "      <td>1792.000000</td>\n",
              "      <td>512</td>\n",
              "      <td>4608</td>\n",
              "      <td>1708.000000</td>\n",
              "      <td>414.0</td>\n",
              "      <td>4294</td>\n",
              "      <td>2</td>\n",
              "      <td>27</td>\n",
              "      <td>0</td>\n",
              "      <td>3</td>\n",
              "      <td>1</td>\n",
              "      <td>3.517270</td>\n",
              "      <td>3.517270</td>\n",
              "      <td>3.517270</td>\n",
              "      <td>952.0</td>\n",
              "      <td>952.0</td>\n",
              "      <td>952</td>\n",
              "      <td>72</td>\n",
              "      <td>0</td>\n",
              "      <td>1</td>\n",
              "      <td>NaN</td>\n",
              "    </tr>\n",
              "    <tr>\n",
              "      <th>3</th>\n",
              "      <td>4</td>\n",
              "      <td>156a0bb069f94d1e7c2508318805f2a4</td>\n",
              "      <td>332</td>\n",
              "      <td>224</td>\n",
              "      <td>8450</td>\n",
              "      <td>10.0</td>\n",
              "      <td>0</td>\n",
              "      <td>108544</td>\n",
              "      <td>15872</td>\n",
              "      <td>0</td>\n",
              "      <td>105021</td>\n",
              "      <td>4096</td>\n",
              "      <td>114688</td>\n",
              "      <td>268435456.0</td>\n",
              "      <td>4096</td>\n",
              "      <td>512</td>\n",
              "      <td>6</td>\n",
              "      <td>1</td>\n",
              "      <td>8</td>\n",
              "      <td>0</td>\n",
              "      <td>6</td>\n",
              "      <td>1</td>\n",
              "      <td>143360</td>\n",
              "      <td>1024</td>\n",
              "      <td>165754</td>\n",
              "      <td>3</td>\n",
              "      <td>320</td>\n",
              "      <td>1048576</td>\n",
              "      <td>4096</td>\n",
              "      <td>1048576</td>\n",
              "      <td>4096</td>\n",
              "      <td>0</td>\n",
              "      <td>16</td>\n",
              "      <td>5</td>\n",
              "      <td>3.404831</td>\n",
              "      <td>0.160329</td>\n",
              "      <td>6.662718</td>\n",
              "      <td>24883.200000</td>\n",
              "      <td>512</td>\n",
              "      <td>108544</td>\n",
              "      <td>25645.400000</td>\n",
              "      <td>85.0</td>\n",
              "      <td>108180</td>\n",
              "      <td>12</td>\n",
              "      <td>66</td>\n",
              "      <td>0</td>\n",
              "      <td>105</td>\n",
              "      <td>2</td>\n",
              "      <td>3.270559</td>\n",
              "      <td>3.034188</td>\n",
              "      <td>3.506931</td>\n",
              "      <td>1032.0</td>\n",
              "      <td>972.0</td>\n",
              "      <td>1092</td>\n",
              "      <td>72</td>\n",
              "      <td>0</td>\n",
              "      <td>1</td>\n",
              "      <td>NaN</td>\n",
              "    </tr>\n",
              "    <tr>\n",
              "      <th>4</th>\n",
              "      <td>5</td>\n",
              "      <td>c72bf851fed5542abba904b1f3944cd5</td>\n",
              "      <td>332</td>\n",
              "      <td>224</td>\n",
              "      <td>8226</td>\n",
              "      <td>48.0</td>\n",
              "      <td>0</td>\n",
              "      <td>513024</td>\n",
              "      <td>2048</td>\n",
              "      <td>0</td>\n",
              "      <td>520922</td>\n",
              "      <td>8192</td>\n",
              "      <td>524288</td>\n",
              "      <td>268435456.0</td>\n",
              "      <td>8192</td>\n",
              "      <td>512</td>\n",
              "      <td>4</td>\n",
              "      <td>0</td>\n",
              "      <td>0</td>\n",
              "      <td>0</td>\n",
              "      <td>6</td>\n",
              "      <td>0</td>\n",
              "      <td>540672</td>\n",
              "      <td>512</td>\n",
              "      <td>582537</td>\n",
              "      <td>3</td>\n",
              "      <td>34144</td>\n",
              "      <td>1048576</td>\n",
              "      <td>4096</td>\n",
              "      <td>1048576</td>\n",
              "      <td>4096</td>\n",
              "      <td>0</td>\n",
              "      <td>16</td>\n",
              "      <td>3</td>\n",
              "      <td>2.978056</td>\n",
              "      <td>0.101910</td>\n",
              "      <td>6.390683</td>\n",
              "      <td>171690.666667</td>\n",
              "      <td>512</td>\n",
              "      <td>513024</td>\n",
              "      <td>171265.333333</td>\n",
              "      <td>12.0</td>\n",
              "      <td>512736</td>\n",
              "      <td>1</td>\n",
              "      <td>1</td>\n",
              "      <td>0</td>\n",
              "      <td>0</td>\n",
              "      <td>1</td>\n",
              "      <td>3.420977</td>\n",
              "      <td>3.420977</td>\n",
              "      <td>3.420977</td>\n",
              "      <td>954.0</td>\n",
              "      <td>954.0</td>\n",
              "      <td>954</td>\n",
              "      <td>0</td>\n",
              "      <td>0</td>\n",
              "      <td>1</td>\n",
              "      <td>NaN</td>\n",
              "    </tr>\n",
              "  </tbody>\n",
              "</table>\n",
              "</div>"
            ],
            "text/plain": [
              "   ID                               md5  ... legitimate  Unnamed: 57\n",
              "0   1  b69acb3bb133974e48229627663f96d4  ...          1          NaN\n",
              "1   2  1cbee4b3725629bd0aa6ac2ff500925f  ...          1          NaN\n",
              "2   3  b7027cf0cd31c820928950cbfe7e91ef  ...          1          NaN\n",
              "3   4  156a0bb069f94d1e7c2508318805f2a4  ...          1          NaN\n",
              "4   5  c72bf851fed5542abba904b1f3944cd5  ...          1          NaN\n",
              "\n",
              "[5 rows x 58 columns]"
            ]
          },
          "metadata": {
            "tags": []
          },
          "execution_count": 4
        }
      ]
    },
    {
      "cell_type": "code",
      "metadata": {
        "id": "Kv7POOSmeop-",
        "colab": {
          "base_uri": "https://localhost:8080/",
          "height": 68
        },
        "outputId": "07b5e15c-af7b-45e8-b709-83f1c60c5f20"
      },
      "source": [
        "df.legitimate.value_counts()"
      ],
      "execution_count": null,
      "outputs": [
        {
          "output_type": "execute_result",
          "data": {
            "text/plain": [
              "0    140849\n",
              "1     75503\n",
              "Name: legitimate, dtype: int64"
            ]
          },
          "metadata": {
            "tags": []
          },
          "execution_count": 5
        }
      ]
    },
    {
      "cell_type": "code",
      "metadata": {
        "id": "0j5FQ3lH0K7-",
        "colab": {
          "base_uri": "https://localhost:8080/",
          "height": 268
        },
        "outputId": "a8f37a3d-8b22-4ab8-872f-b6dc95f6fcc1"
      },
      "source": [
        "# Let's plot a graph of our target classes\n",
        "sns.set()\n",
        "df.legitimate.value_counts().plot(kind='bar', color=['blue', 'salmon'])\n",
        "plt.xticks(rotation=0);"
      ],
      "execution_count": null,
      "outputs": [
        {
          "output_type": "display_data",
          "data": {
            "image/png": "[encoded data removed]",
            "text/plain": [
              "<Figure size 432x288 with 1 Axes>"
            ]
          },
          "metadata": {
            "tags": []
          }
        }
      ]
    },
    {
      "cell_type": "markdown",
      "metadata": {
        "id": "eNTXgkfn1quZ"
      },
      "source": [
        "From the graph, we can see that our dataset is imbalanced, we will oversample the 1-class "
      ]
    },
    {
      "cell_type": "code",
      "metadata": {
        "id": "iCnBu1hKetej",
        "colab": {
          "base_uri": "https://localhost:8080/",
          "height": 1000
        },
        "outputId": "af30be9f-3886-4f16-8f94-f5b41ecf15c3"
      },
      "source": [
        "df.info()"
      ],
      "execution_count": null,
      "outputs": [
        {
          "output_type": "stream",
          "text": [
            "<class 'pandas.core.frame.DataFrame'>\n",
            "RangeIndex: 216352 entries, 0 to 216351\n",
            "Data columns (total 58 columns):\n",
            " #   Column                       Non-Null Count   Dtype  \n",
            "---  ------                       --------------   -----  \n",
            " 0   ID                           216352 non-null  int64  \n",
            " 1   md5                          216352 non-null  object \n",
            " 2   Machine                      216352 non-null  object \n",
            " 3   SizeOfOptionalHeader         216352 non-null  int64  \n",
            " 4   Characteristics              216352 non-null  int64  \n",
            " 5   MajorLinkerVersion           216351 non-null  float64\n",
            " 6   MinorLinkerVersion           216352 non-null  int64  \n",
            " 7   SizeOfCode                   216352 non-null  int64  \n",
            " 8   SizeOfInitializedData        216352 non-null  int64  \n",
            " 9   SizeOfUninitializedData      216352 non-null  int64  \n",
            " 10  AddressOfEntryPoint          216352 non-null  int64  \n",
            " 11  BaseOfCode                   216352 non-null  int64  \n",
            " 12  BaseOfData                   216352 non-null  int64  \n",
            " 13  ImageBase                    216352 non-null  float64\n",
            " 14  SectionAlignment             216352 non-null  int64  \n",
            " 15  FileAlignment                216352 non-null  int64  \n",
            " 16  MajorOperatingSystemVersion  216352 non-null  int64  \n",
            " 17  MinorOperatingSystemVersion  216352 non-null  int64  \n",
            " 18  MajorImageVersion            216352 non-null  int64  \n",
            " 19  MinorImageVersion            216352 non-null  int64  \n",
            " 20  MajorSubsystemVersion        216352 non-null  int64  \n",
            " 21  MinorSubsystemVersion        216352 non-null  int64  \n",
            " 22  SizeOfImage                  216352 non-null  int64  \n",
            " 23  SizeOfHeaders                216352 non-null  int64  \n",
            " 24  CheckSum                     216352 non-null  int64  \n",
            " 25  Subsystem                    216352 non-null  int64  \n",
            " 26  DllCharacteristics           216352 non-null  int64  \n",
            " 27  SizeOfStackReserve           216352 non-null  int64  \n",
            " 28  SizeOfStackCommit            216352 non-null  int64  \n",
            " 29  SizeOfHeapReserve            216352 non-null  int64  \n",
            " 30  SizeOfHeapCommit             216352 non-null  int64  \n",
            " 31  LoaderFlags                  216352 non-null  int64  \n",
            " 32  NumberOfRvaAndSizes          216352 non-null  int64  \n",
            " 33  SectionsNb                   216352 non-null  int64  \n",
            " 34  SectionsMeanEntropy          216352 non-null  float64\n",
            " 35  SectionsMinEntropy           216352 non-null  float64\n",
            " 36  SectionsMaxEntropy           216352 non-null  float64\n",
            " 37  SectionsMeanRawsize          216352 non-null  float64\n",
            " 38  SectionsMinRawsize           216352 non-null  int64  \n",
            " 39  SectionMaxRawsize            216352 non-null  int64  \n",
            " 40  SectionsMeanVirtualsize      216352 non-null  float64\n",
            " 41  SectionsMinVirtualsize       216352 non-null  float64\n",
            " 42  SectionMaxVirtualsize        216352 non-null  int64  \n",
            " 43  ImportsNbDLL                 216352 non-null  int64  \n",
            " 44  ImportsNb                    216352 non-null  int64  \n",
            " 45  ImportsNbOrdinal             216352 non-null  int64  \n",
            " 46  ExportNb                     216352 non-null  int64  \n",
            " 47  ResourcesNb                  216352 non-null  int64  \n",
            " 48  ResourcesMeanEntropy         216352 non-null  float64\n",
            " 49  ResourcesMinEntropy          216352 non-null  float64\n",
            " 50  ResourcesMaxEntropy          216352 non-null  float64\n",
            " 51  ResourcesMeanSize            216352 non-null  float64\n",
            " 52  ResourcesMinSize             216352 non-null  float64\n",
            " 53  ResourcesMaxSize             216352 non-null  int64  \n",
            " 54  LoadConfigurationSize        216352 non-null  int64  \n",
            " 55  VersionInformationSize       216352 non-null  int64  \n",
            " 56  legitimate                   216352 non-null  int64  \n",
            " 57  Unnamed: 57                  1 non-null       float64\n",
            "dtypes: float64(14), int64(42), object(2)\n",
            "memory usage: 95.7+ MB\n"
          ],
          "name": "stdout"
        }
      ]
    },
    {
      "cell_type": "code",
      "metadata": {
        "id": "tShv0BiO1_9E",
        "colab": {
          "base_uri": "https://localhost:8080/",
          "height": 221
        },
        "outputId": "6b6a42fe-1bf7-4eff-ce7b-4f73fde452d7"
      },
      "source": [
        "# let's look at our machine column\n",
        "df.Machine"
      ],
      "execution_count": null,
      "outputs": [
        {
          "output_type": "execute_result",
          "data": {
            "text/plain": [
              "0         332\n",
              "1         332\n",
              "2         332\n",
              "3         332\n",
              "4         332\n",
              "         ... \n",
              "216347    332\n",
              "216348    332\n",
              "216349    332\n",
              "216350    332\n",
              "216351    332\n",
              "Name: Machine, Length: 216352, dtype: object"
            ]
          },
          "metadata": {
            "tags": []
          },
          "execution_count": 8
        }
      ]
    },
    {
      "cell_type": "markdown",
      "metadata": {
        "id": "-0L_LQ4v2ItS"
      },
      "source": [
        "Looking at our machine column, its obvious that it wouldn't have effect on the target column, secondly, it is of dtype object (int), we will have difficulties trying to convert it to tensors for our neural network algorithm. So its best we drop the column. We will also drop our \"unnamed: 57\" column, since it is just filled up with NaN"
      ]
    },
    {
      "cell_type": "code",
      "metadata": {
        "id": "-5sKB9Dc37H4"
      },
      "source": [
        "df = df.drop(['Machine', 'Unnamed: 57'], axis=1)"
      ],
      "execution_count": null,
      "outputs": []
    },
    {
      "cell_type": "code",
      "metadata": {
        "id": "TxxYVg-gevuw",
        "colab": {
          "base_uri": "https://localhost:8080/",
          "height": 986
        },
        "outputId": "aa99d43c-4f01-4f48-8c82-8aa7a0b08303"
      },
      "source": [
        "df.isna().sum()"
      ],
      "execution_count": null,
      "outputs": [
        {
          "output_type": "execute_result",
          "data": {
            "text/plain": [
              "ID                             0\n",
              "md5                            0\n",
              "SizeOfOptionalHeader           0\n",
              "Characteristics                0\n",
              "MajorLinkerVersion             1\n",
              "MinorLinkerVersion             0\n",
              "SizeOfCode                     0\n",
              "SizeOfInitializedData          0\n",
              "SizeOfUninitializedData        0\n",
              "AddressOfEntryPoint            0\n",
              "BaseOfCode                     0\n",
              "BaseOfData                     0\n",
              "ImageBase                      0\n",
              "SectionAlignment               0\n",
              "FileAlignment                  0\n",
              "MajorOperatingSystemVersion    0\n",
              "MinorOperatingSystemVersion    0\n",
              "MajorImageVersion              0\n",
              "MinorImageVersion              0\n",
              "MajorSubsystemVersion          0\n",
              "MinorSubsystemVersion          0\n",
              "SizeOfImage                    0\n",
              "SizeOfHeaders                  0\n",
              "CheckSum                       0\n",
              "Subsystem                      0\n",
              "DllCharacteristics             0\n",
              "SizeOfStackReserve             0\n",
              "SizeOfStackCommit              0\n",
              "SizeOfHeapReserve              0\n",
              "SizeOfHeapCommit               0\n",
              "LoaderFlags                    0\n",
              "NumberOfRvaAndSizes            0\n",
              "SectionsNb                     0\n",
              "SectionsMeanEntropy            0\n",
              "SectionsMinEntropy             0\n",
              "SectionsMaxEntropy             0\n",
              "SectionsMeanRawsize            0\n",
              "SectionsMinRawsize             0\n",
              "SectionMaxRawsize              0\n",
              "SectionsMeanVirtualsize        0\n",
              "SectionsMinVirtualsize         0\n",
              "SectionMaxVirtualsize          0\n",
              "ImportsNbDLL                   0\n",
              "ImportsNb                      0\n",
              "ImportsNbOrdinal               0\n",
              "ExportNb                       0\n",
              "ResourcesNb                    0\n",
              "ResourcesMeanEntropy           0\n",
              "ResourcesMinEntropy            0\n",
              "ResourcesMaxEntropy            0\n",
              "ResourcesMeanSize              0\n",
              "ResourcesMinSize               0\n",
              "ResourcesMaxSize               0\n",
              "LoadConfigurationSize          0\n",
              "VersionInformationSize         0\n",
              "legitimate                     0\n",
              "dtype: int64"
            ]
          },
          "metadata": {
            "tags": []
          },
          "execution_count": 10
        }
      ]
    },
    {
      "cell_type": "markdown",
      "metadata": {
        "id": "uPuLtmBf4Rz6"
      },
      "source": [
        "So we have just one missing field, we will drop the field"
      ]
    },
    {
      "cell_type": "code",
      "metadata": {
        "id": "rh7EJ_nieyZz"
      },
      "source": [
        "df = df.dropna()"
      ],
      "execution_count": null,
      "outputs": []
    },
    {
      "cell_type": "code",
      "metadata": {
        "id": "-Vce-8ljfATp",
        "colab": {
          "base_uri": "https://localhost:8080/",
          "height": 986
        },
        "outputId": "1ac32aba-db69-4620-8c33-2d0869c79ed8"
      },
      "source": [
        "df.isna().sum()"
      ],
      "execution_count": null,
      "outputs": [
        {
          "output_type": "execute_result",
          "data": {
            "text/plain": [
              "ID                             0\n",
              "md5                            0\n",
              "SizeOfOptionalHeader           0\n",
              "Characteristics                0\n",
              "MajorLinkerVersion             0\n",
              "MinorLinkerVersion             0\n",
              "SizeOfCode                     0\n",
              "SizeOfInitializedData          0\n",
              "SizeOfUninitializedData        0\n",
              "AddressOfEntryPoint            0\n",
              "BaseOfCode                     0\n",
              "BaseOfData                     0\n",
              "ImageBase                      0\n",
              "SectionAlignment               0\n",
              "FileAlignment                  0\n",
              "MajorOperatingSystemVersion    0\n",
              "MinorOperatingSystemVersion    0\n",
              "MajorImageVersion              0\n",
              "MinorImageVersion              0\n",
              "MajorSubsystemVersion          0\n",
              "MinorSubsystemVersion          0\n",
              "SizeOfImage                    0\n",
              "SizeOfHeaders                  0\n",
              "CheckSum                       0\n",
              "Subsystem                      0\n",
              "DllCharacteristics             0\n",
              "SizeOfStackReserve             0\n",
              "SizeOfStackCommit              0\n",
              "SizeOfHeapReserve              0\n",
              "SizeOfHeapCommit               0\n",
              "LoaderFlags                    0\n",
              "NumberOfRvaAndSizes            0\n",
              "SectionsNb                     0\n",
              "SectionsMeanEntropy            0\n",
              "SectionsMinEntropy             0\n",
              "SectionsMaxEntropy             0\n",
              "SectionsMeanRawsize            0\n",
              "SectionsMinRawsize             0\n",
              "SectionMaxRawsize              0\n",
              "SectionsMeanVirtualsize        0\n",
              "SectionsMinVirtualsize         0\n",
              "SectionMaxVirtualsize          0\n",
              "ImportsNbDLL                   0\n",
              "ImportsNb                      0\n",
              "ImportsNbOrdinal               0\n",
              "ExportNb                       0\n",
              "ResourcesNb                    0\n",
              "ResourcesMeanEntropy           0\n",
              "ResourcesMinEntropy            0\n",
              "ResourcesMaxEntropy            0\n",
              "ResourcesMeanSize              0\n",
              "ResourcesMinSize               0\n",
              "ResourcesMaxSize               0\n",
              "LoadConfigurationSize          0\n",
              "VersionInformationSize         0\n",
              "legitimate                     0\n",
              "dtype: int64"
            ]
          },
          "metadata": {
            "tags": []
          },
          "execution_count": 12
        }
      ]
    },
    {
      "cell_type": "code",
      "metadata": {
        "id": "tLBg87I_6sCL",
        "colab": {
          "base_uri": "https://localhost:8080/",
          "height": 221
        },
        "outputId": "2a468add-2d60-41ea-89f2-356f4c260b73"
      },
      "source": [
        "# Let's look at our characteristics column\n",
        "df.Characteristics"
      ],
      "execution_count": null,
      "outputs": [
        {
          "output_type": "execute_result",
          "data": {
            "text/plain": [
              "0          8450\n",
              "1           258\n",
              "2          8450\n",
              "3          8450\n",
              "4          8226\n",
              "          ...  \n",
              "216347      258\n",
              "216348    33167\n",
              "216349      258\n",
              "216350    33166\n",
              "216351      258\n",
              "Name: Characteristics, Length: 216351, dtype: int64"
            ]
          },
          "metadata": {
            "tags": []
          },
          "execution_count": 13
        }
      ]
    },
    {
      "cell_type": "code",
      "metadata": {
        "id": "IbSJWGo266x6",
        "colab": {
          "base_uri": "https://localhost:8080/",
          "height": 191
        },
        "outputId": "4a647343-7000-48cf-8228-7cf335738d41"
      },
      "source": [
        "pd.crosstab(df.legitimate, df.Characteristics)"
      ],
      "execution_count": null,
      "outputs": [
        {
          "output_type": "execute_result",
          "data": {
            "text/html": [
              "<div>\n",
              "<style scoped>\n",
              "    .dataframe tbody tr th:only-of-type {\n",
              "        vertical-align: middle;\n",
              "    }\n",
              "\n",
              "    .dataframe tbody tr th {\n",
              "        vertical-align: top;\n",
              "    }\n",
              "\n",
              "    .dataframe thead th {\n",
              "        text-align: right;\n",
              "    }\n",
              "</style>\n",
              "<table border=\"1\" class=\"dataframe\">\n",
              "  <thead>\n",
              "    <tr style=\"text-align: right;\">\n",
              "      <th>Characteristics</th>\n",
              "      <th>0</th>\n",
              "      <th>2</th>\n",
              "      <th>3</th>\n",
              "      <th>6</th>\n",
              "      <th>7</th>\n",
              "      <th>14</th>\n",
              "      <th>15</th>\n",
              "      <th>34</th>\n",
              "      <th>35</th>\n",
              "      <th>39</th>\n",
              "      <th>46</th>\n",
              "      <th>47</th>\n",
              "      <th>115</th>\n",
              "      <th>224</th>\n",
              "      <th>258</th>\n",
              "      <th>259</th>\n",
              "      <th>262</th>\n",
              "      <th>263</th>\n",
              "      <th>266</th>\n",
              "      <th>267</th>\n",
              "      <th>270</th>\n",
              "      <th>271</th>\n",
              "      <th>286</th>\n",
              "      <th>287</th>\n",
              "      <th>290</th>\n",
              "      <th>291</th>\n",
              "      <th>294</th>\n",
              "      <th>295</th>\n",
              "      <th>302</th>\n",
              "      <th>303</th>\n",
              "      <th>322</th>\n",
              "      <th>354</th>\n",
              "      <th>370</th>\n",
              "      <th>386</th>\n",
              "      <th>387</th>\n",
              "      <th>399</th>\n",
              "      <th>502</th>\n",
              "      <th>515</th>\n",
              "      <th>519</th>\n",
              "      <th>526</th>\n",
              "      <th>...</th>\n",
              "      <th>8750</th>\n",
              "      <th>8962</th>\n",
              "      <th>8966</th>\n",
              "      <th>8970</th>\n",
              "      <th>8974</th>\n",
              "      <th>9006</th>\n",
              "      <th>9486</th>\n",
              "      <th>10498</th>\n",
              "      <th>10530</th>\n",
              "      <th>11298</th>\n",
              "      <th>11522</th>\n",
              "      <th>11534</th>\n",
              "      <th>17679</th>\n",
              "      <th>18811</th>\n",
              "      <th>24846</th>\n",
              "      <th>33154</th>\n",
              "      <th>33158</th>\n",
              "      <th>33162</th>\n",
              "      <th>33166</th>\n",
              "      <th>33167</th>\n",
              "      <th>33170</th>\n",
              "      <th>33183</th>\n",
              "      <th>33198</th>\n",
              "      <th>33199</th>\n",
              "      <th>33678</th>\n",
              "      <th>33679</th>\n",
              "      <th>33695</th>\n",
              "      <th>34178</th>\n",
              "      <th>34182</th>\n",
              "      <th>35083</th>\n",
              "      <th>36751</th>\n",
              "      <th>36767</th>\n",
              "      <th>36831</th>\n",
              "      <th>36866</th>\n",
              "      <th>41358</th>\n",
              "      <th>41362</th>\n",
              "      <th>41870</th>\n",
              "      <th>41871</th>\n",
              "      <th>49086</th>\n",
              "      <th>49551</th>\n",
              "    </tr>\n",
              "    <tr>\n",
              "      <th>legitimate</th>\n",
              "      <th></th>\n",
              "      <th></th>\n",
              "      <th></th>\n",
              "      <th></th>\n",
              "      <th></th>\n",
              "      <th></th>\n",
              "      <th></th>\n",
              "      <th></th>\n",
              "      <th></th>\n",
              "      <th></th>\n",
              "      <th></th>\n",
              "      <th></th>\n",
              "      <th></th>\n",
              "      <th></th>\n",
              "      <th></th>\n",
              "      <th></th>\n",
              "      <th></th>\n",
              "      <th></th>\n",
              "      <th></th>\n",
              "      <th></th>\n",
              "      <th></th>\n",
              "      <th></th>\n",
              "      <th></th>\n",
              "      <th></th>\n",
              "      <th></th>\n",
              "      <th></th>\n",
              "      <th></th>\n",
              "      <th></th>\n",
              "      <th></th>\n",
              "      <th></th>\n",
              "      <th></th>\n",
              "      <th></th>\n",
              "      <th></th>\n",
              "      <th></th>\n",
              "      <th></th>\n",
              "      <th></th>\n",
              "      <th></th>\n",
              "      <th></th>\n",
              "      <th></th>\n",
              "      <th></th>\n",
              "      <th></th>\n",
              "      <th></th>\n",
              "      <th></th>\n",
              "      <th></th>\n",
              "      <th></th>\n",
              "      <th></th>\n",
              "      <th></th>\n",
              "      <th></th>\n",
              "      <th></th>\n",
              "      <th></th>\n",
              "      <th></th>\n",
              "      <th></th>\n",
              "      <th></th>\n",
              "      <th></th>\n",
              "      <th></th>\n",
              "      <th></th>\n",
              "      <th></th>\n",
              "      <th></th>\n",
              "      <th></th>\n",
              "      <th></th>\n",
              "      <th></th>\n",
              "      <th></th>\n",
              "      <th></th>\n",
              "      <th></th>\n",
              "      <th></th>\n",
              "      <th></th>\n",
              "      <th></th>\n",
              "      <th></th>\n",
              "      <th></th>\n",
              "      <th></th>\n",
              "      <th></th>\n",
              "      <th></th>\n",
              "      <th></th>\n",
              "      <th></th>\n",
              "      <th></th>\n",
              "      <th></th>\n",
              "      <th></th>\n",
              "      <th></th>\n",
              "      <th></th>\n",
              "      <th></th>\n",
              "      <th></th>\n",
              "    </tr>\n",
              "  </thead>\n",
              "  <tbody>\n",
              "    <tr>\n",
              "      <th>0</th>\n",
              "      <td>1</td>\n",
              "      <td>9</td>\n",
              "      <td>4</td>\n",
              "      <td>11</td>\n",
              "      <td>6</td>\n",
              "      <td>6</td>\n",
              "      <td>20</td>\n",
              "      <td>924</td>\n",
              "      <td>52</td>\n",
              "      <td>8</td>\n",
              "      <td>32</td>\n",
              "      <td>47</td>\n",
              "      <td>1</td>\n",
              "      <td>1</td>\n",
              "      <td>78087</td>\n",
              "      <td>9994</td>\n",
              "      <td>24</td>\n",
              "      <td>126</td>\n",
              "      <td>25</td>\n",
              "      <td>70</td>\n",
              "      <td>1519</td>\n",
              "      <td>23134</td>\n",
              "      <td>7</td>\n",
              "      <td>43</td>\n",
              "      <td>400</td>\n",
              "      <td>606</td>\n",
              "      <td>3</td>\n",
              "      <td>5</td>\n",
              "      <td>42</td>\n",
              "      <td>30</td>\n",
              "      <td>1</td>\n",
              "      <td>2</td>\n",
              "      <td>3</td>\n",
              "      <td>327</td>\n",
              "      <td>2</td>\n",
              "      <td>2</td>\n",
              "      <td>1</td>\n",
              "      <td>4</td>\n",
              "      <td>4</td>\n",
              "      <td>3</td>\n",
              "      <td>...</td>\n",
              "      <td>0</td>\n",
              "      <td>27</td>\n",
              "      <td>28</td>\n",
              "      <td>10</td>\n",
              "      <td>94</td>\n",
              "      <td>0</td>\n",
              "      <td>0</td>\n",
              "      <td>4</td>\n",
              "      <td>2</td>\n",
              "      <td>0</td>\n",
              "      <td>8</td>\n",
              "      <td>2</td>\n",
              "      <td>4</td>\n",
              "      <td>5</td>\n",
              "      <td>0</td>\n",
              "      <td>3</td>\n",
              "      <td>1</td>\n",
              "      <td>11</td>\n",
              "      <td>3103</td>\n",
              "      <td>7911</td>\n",
              "      <td>1</td>\n",
              "      <td>2</td>\n",
              "      <td>1</td>\n",
              "      <td>2</td>\n",
              "      <td>84</td>\n",
              "      <td>284</td>\n",
              "      <td>4</td>\n",
              "      <td>2</td>\n",
              "      <td>1</td>\n",
              "      <td>1</td>\n",
              "      <td>1</td>\n",
              "      <td>2</td>\n",
              "      <td>1</td>\n",
              "      <td>1</td>\n",
              "      <td>207</td>\n",
              "      <td>5</td>\n",
              "      <td>13</td>\n",
              "      <td>2</td>\n",
              "      <td>1</td>\n",
              "      <td>1</td>\n",
              "    </tr>\n",
              "    <tr>\n",
              "      <th>1</th>\n",
              "      <td>0</td>\n",
              "      <td>25</td>\n",
              "      <td>0</td>\n",
              "      <td>0</td>\n",
              "      <td>0</td>\n",
              "      <td>0</td>\n",
              "      <td>0</td>\n",
              "      <td>3136</td>\n",
              "      <td>257</td>\n",
              "      <td>0</td>\n",
              "      <td>0</td>\n",
              "      <td>3</td>\n",
              "      <td>0</td>\n",
              "      <td>0</td>\n",
              "      <td>5679</td>\n",
              "      <td>611</td>\n",
              "      <td>0</td>\n",
              "      <td>7</td>\n",
              "      <td>2</td>\n",
              "      <td>0</td>\n",
              "      <td>459</td>\n",
              "      <td>1672</td>\n",
              "      <td>2</td>\n",
              "      <td>31</td>\n",
              "      <td>450</td>\n",
              "      <td>28</td>\n",
              "      <td>11</td>\n",
              "      <td>1</td>\n",
              "      <td>72</td>\n",
              "      <td>23</td>\n",
              "      <td>0</td>\n",
              "      <td>0</td>\n",
              "      <td>0</td>\n",
              "      <td>0</td>\n",
              "      <td>0</td>\n",
              "      <td>0</td>\n",
              "      <td>0</td>\n",
              "      <td>0</td>\n",
              "      <td>1</td>\n",
              "      <td>0</td>\n",
              "      <td>...</td>\n",
              "      <td>1</td>\n",
              "      <td>16</td>\n",
              "      <td>44</td>\n",
              "      <td>14</td>\n",
              "      <td>74</td>\n",
              "      <td>5</td>\n",
              "      <td>3</td>\n",
              "      <td>2</td>\n",
              "      <td>6</td>\n",
              "      <td>293</td>\n",
              "      <td>601</td>\n",
              "      <td>69</td>\n",
              "      <td>0</td>\n",
              "      <td>0</td>\n",
              "      <td>63</td>\n",
              "      <td>0</td>\n",
              "      <td>0</td>\n",
              "      <td>0</td>\n",
              "      <td>26</td>\n",
              "      <td>65</td>\n",
              "      <td>0</td>\n",
              "      <td>0</td>\n",
              "      <td>1</td>\n",
              "      <td>0</td>\n",
              "      <td>1</td>\n",
              "      <td>2</td>\n",
              "      <td>0</td>\n",
              "      <td>0</td>\n",
              "      <td>0</td>\n",
              "      <td>0</td>\n",
              "      <td>0</td>\n",
              "      <td>0</td>\n",
              "      <td>0</td>\n",
              "      <td>0</td>\n",
              "      <td>10</td>\n",
              "      <td>0</td>\n",
              "      <td>0</td>\n",
              "      <td>0</td>\n",
              "      <td>0</td>\n",
              "      <td>0</td>\n",
              "    </tr>\n",
              "  </tbody>\n",
              "</table>\n",
              "<p>2 rows × 152 columns</p>\n",
              "</div>"
            ],
            "text/plain": [
              "Characteristics  0      2      3      6      ...  41870  41871  49086  49551\n",
              "legitimate                                   ...                            \n",
              "0                    1      9      4     11  ...     13      2      1      1\n",
              "1                    0     25      0      0  ...      0      0      0      0\n",
              "\n",
              "[2 rows x 152 columns]"
            ]
          },
          "metadata": {
            "tags": []
          },
          "execution_count": 14
        }
      ]
    },
    {
      "cell_type": "markdown",
      "metadata": {
        "id": "xWPDwg6QfCH3"
      },
      "source": [
        "### Data Preprocessing Lyer"
      ]
    },
    {
      "cell_type": "code",
      "metadata": {
        "id": "nN0N-7I5Ag1P"
      },
      "source": [
        "# Firstly, lets oversample our imbalanced class\n",
        "def sample_dataset(dataset):\n",
        "  \"\"\"\n",
        "  takes a dataset and oversamples the minority class\n",
        "  \"\"\"\n",
        "  count_class_0, count_class_1 = dataset.legitimate.value_counts()\n",
        "  class_0 = dataset[dataset['legitimate']==0]\n",
        "  class_1 = dataset[dataset['legitimate']==1]\n",
        "\n",
        "  # Oversample the minority class\n",
        "  class_1_over = class_1.sample(count_class_0, replace=True)\n",
        "  dataset_over = pd.concat([class_0, class_1_over], axis=0)\n",
        "\n",
        "  return dataset_over"
      ],
      "execution_count": null,
      "outputs": []
    },
    {
      "cell_type": "code",
      "metadata": {
        "id": "g42kRhVyD-ob"
      },
      "source": [
        "df = sample_dataset(df)"
      ],
      "execution_count": null,
      "outputs": []
    },
    {
      "cell_type": "code",
      "metadata": {
        "id": "BWDfsg9uELgn",
        "colab": {
          "base_uri": "https://localhost:8080/",
          "height": 268
        },
        "outputId": "a29eece9-8776-4c6d-e9c8-591ac5b74ac6"
      },
      "source": [
        "df.legitimate.value_counts().plot(kind='bar', color=['brown', 'green'])\n",
        "plt.xticks(rotation=0);"
      ],
      "execution_count": null,
      "outputs": [
        {
          "output_type": "display_data",
          "data": {
            "image/png": "[encoded data removed]",
            "text/plain": [
              "<Figure size 432x288 with 1 Axes>"
            ]
          },
          "metadata": {
            "tags": []
          }
        }
      ]
    },
    {
      "cell_type": "markdown",
      "metadata": {
        "id": "2LfZr4ATEfbF"
      },
      "source": [
        "our dataset now has a balanced target class"
      ]
    },
    {
      "cell_type": "code",
      "metadata": {
        "id": "UBEsxb3CfQtX"
      },
      "source": [
        "# Get the column type and store them in an array\n",
        "numerical_features = []\n",
        "categorical_features = []\n",
        "for column in df.columns:\n",
        "  if df[column].dtype == np.float64 or df[column].dtype == np.int64:\n",
        "    numerical_features.append(column)\n",
        "  else:\n",
        "    categorical_features.append(column)"
      ],
      "execution_count": null,
      "outputs": []
    },
    {
      "cell_type": "code",
      "metadata": {
        "id": "qCJxQUfnjqWT",
        "colab": {
          "base_uri": "https://localhost:8080/",
          "height": 34
        },
        "outputId": "9cb7a31f-6874-4420-ee4b-8bf7e446197b"
      },
      "source": [
        "categorical_features"
      ],
      "execution_count": null,
      "outputs": [
        {
          "output_type": "execute_result",
          "data": {
            "text/plain": [
              "['md5']"
            ]
          },
          "metadata": {
            "tags": []
          },
          "execution_count": 19
        }
      ]
    },
    {
      "cell_type": "code",
      "metadata": {
        "id": "Xp3XAnQoj6JU"
      },
      "source": [
        "# Preprocessing using feature columns\n",
        "# numeric columns\n",
        "feature_columns = [tf.feature_column.numeric_column(k) for k in numerical_features]\n",
        "\n",
        "# Categorical Columns:\n",
        "# For the categorical column, we will use the categorical_column_with_hash_bucket for \n",
        "# columns having a high amount of unique values, and categorical_column_with_vocabulary_list \n",
        "# if we have a reasonable amount of unique values.\n",
        "\n",
        "for k in categorical_features:\n",
        "  current_bucket = df[k].nunique()\n",
        "  if current_bucket < 10:\n",
        "    feature_columns.append(tf.feature_column.indicator_column(\n",
        "        tf.feature_column.categorical_column_with_vocabulary_list(\n",
        "            key = k, vocabulary_list = df[k].unique()\n",
        "        )\n",
        "    ))\n",
        "  else:\n",
        "    feature_columns.append(tf.feature_column.indicator_column(\n",
        "        tf.feature_column.categorical_column_with_hash_bucket(key = k, hash_bucket_size=current_bucket))\n",
        "    )"
      ],
      "execution_count": null,
      "outputs": []
    },
    {
      "cell_type": "code",
      "metadata": {
        "id": "0LZ9JJRD2-kQ"
      },
      "source": [
        "feature_columns = tf.keras.layers.DenseFeatures(feature_columns)"
      ],
      "execution_count": null,
      "outputs": []
    },
    {
      "cell_type": "code",
      "metadata": {
        "id": "GNGPQN_boAJJ",
        "colab": {
          "base_uri": "https://localhost:8080/",
          "height": 34
        },
        "outputId": "b8d1db79-fdc9-43fd-e0f5-975eb9908dda"
      },
      "source": [
        "feature_columns"
      ],
      "execution_count": null,
      "outputs": [
        {
          "output_type": "execute_result",
          "data": {
            "text/plain": [
              "<tensorflow.python.feature_column.dense_features_v2.DenseFeatures at 0x7facb370ff28>"
            ]
          },
          "metadata": {
            "tags": []
          },
          "execution_count": 22
        }
      ]
    },
    {
      "cell_type": "markdown",
      "metadata": {
        "id": "L_zCOgz4oN1g"
      },
      "source": [
        "## Input Pipelines"
      ]
    },
    {
      "cell_type": "code",
      "metadata": {
        "id": "yfXwcukZofAV"
      },
      "source": [
        "# A utility method to create a tf.data datset from pandas dataframe\n",
        "\n",
        "def df_to_dataset(dataset, shuffle=True, batch_size = 32):\n",
        "    \"\"\"\n",
        "    Takes in a pandas dataframe, converts it to tf.data dataset,\n",
        "    shuffles, it, batchifies and prefetches it\n",
        "    \"\"\"\n",
        "    np.random.seed(42)\n",
        "    tf.random.set_seed(42)\n",
        "    # copies the dataframe\n",
        "    dataset = dataset.copy()\n",
        "    labels = dataset['legitimate']\n",
        "    # convert to tf.dataset\n",
        "    dataset = tf.data.Dataset.from_tensor_slices((dict(dataset), labels))\n",
        "    # Shuffle if train data\n",
        "    if shuffle:\n",
        "      dataset = dataset.shuffle(10000)\n",
        "    dataset = dataset.batch(batch_size)\n",
        "    dataset = dataset.prefetch(1)\n",
        "\n",
        "    return dataset"
      ],
      "execution_count": null,
      "outputs": []
    },
    {
      "cell_type": "code",
      "metadata": {
        "id": "9ywoTf6KtiHh"
      },
      "source": [
        "# let's split our dataset into train, valid and test\n",
        "np.random.seed(42)\n",
        "tf.random.set_seed(42)\n",
        "train_valid, test = train_test_split(df, test_size=0.1)\n",
        "train, valid = train_test_split(train_valid, test_size=0.2)"
      ],
      "execution_count": null,
      "outputs": []
    },
    {
      "cell_type": "code",
      "metadata": {
        "id": "wZ2JlGJMwpJA"
      },
      "source": [
        "train_set = df_to_dataset(train)\n",
        "valid_set = df_to_dataset(valid, shuffle = False)\n",
        "test_set = df_to_dataset(test, shuffle = False)"
      ],
      "execution_count": null,
      "outputs": []
    },
    {
      "cell_type": "code",
      "metadata": {
        "id": "hSxcqS1Z19ia",
        "colab": {
          "base_uri": "https://localhost:8080/",
          "height": 360
        },
        "outputId": "50b2806a-48d3-40ea-9f27-0c58c02f99ff"
      },
      "source": [
        "# Let's take a view of our dataset\n",
        "for feature_batch, label_batch in train_set.take(1):\n",
        "  print('Every feature:', list(feature_batch.keys()))\n",
        "  print('A batch of md5:', feature_batch['md5'])\n",
        "  print('A batch of targets:', label_batch )"
      ],
      "execution_count": null,
      "outputs": [
        {
          "output_type": "stream",
          "text": [
            "Every feature: ['ID', 'md5', 'SizeOfOptionalHeader', 'Characteristics', 'MajorLinkerVersion', 'MinorLinkerVersion', 'SizeOfCode', 'SizeOfInitializedData', 'SizeOfUninitializedData', 'AddressOfEntryPoint', 'BaseOfCode', 'BaseOfData', 'ImageBase', 'SectionAlignment', 'FileAlignment', 'MajorOperatingSystemVersion', 'MinorOperatingSystemVersion', 'MajorImageVersion', 'MinorImageVersion', 'MajorSubsystemVersion', 'MinorSubsystemVersion', 'SizeOfImage', 'SizeOfHeaders', 'CheckSum', 'Subsystem', 'DllCharacteristics', 'SizeOfStackReserve', 'SizeOfStackCommit', 'SizeOfHeapReserve', 'SizeOfHeapCommit', 'LoaderFlags', 'NumberOfRvaAndSizes', 'SectionsNb', 'SectionsMeanEntropy', 'SectionsMinEntropy', 'SectionsMaxEntropy', 'SectionsMeanRawsize', 'SectionsMinRawsize', 'SectionMaxRawsize', 'SectionsMeanVirtualsize', 'SectionsMinVirtualsize', 'SectionMaxVirtualsize', 'ImportsNbDLL', 'ImportsNb', 'ImportsNbOrdinal', 'ExportNb', 'ResourcesNb', 'ResourcesMeanEntropy', 'ResourcesMinEntropy', 'ResourcesMaxEntropy', 'ResourcesMeanSize', 'ResourcesMinSize', 'ResourcesMaxSize', 'LoadConfigurationSize', 'VersionInformationSize', 'legitimate']\n",
            "A batch of md5: tf.Tensor(\n",
            "[b'61a5fb191ae2ae876db31dcce75e4183' b'88694a9124bdf2419253a3bee46a7303'\n",
            " b'c238aec867b82a602aa1bb674d6c7420' b'0f0c2fccc5d70015cf6396317e7be870'\n",
            " b'34c12995995b89a9c9424aa94d097cb3' b'e3ad385f57342e0303c06f7ebdaaf4b0'\n",
            " b'1f9676885848a72488b59d11b21ec5ed' b'b2e22714645c13100588ef32885f33e3'\n",
            " b'0795c973732ec8c15a0e61d7ccf5a9fa' b'10498531aae3bda73a6ffc9f8a4b3c82'\n",
            " b'c0aad567c8868d75a2e4b12b9b76b1b6' b'1d3a381294416009cce157195e538f87'\n",
            " b'058b4dd782a4fcd2881c7025cf54b188' b'3773ed59e61ba7d5a42adb24026e1971'\n",
            " b'6214067fc3d7246ff9e158e6314f25dd' b'a9219926ef712d4e497e3cf25ed318e7'\n",
            " b'619687a29cc04607f24737550f664373' b'cbf05df8861fcdd80543d0792de3fd9b'\n",
            " b'0c639bf13f7597dd591e2e82341057dc' b'c0d99fe7086340524ca18602c9575987'\n",
            " b'27f92e0c0544556b97d699f4d5abd7c0' b'bd0b0f768e7e74c5cd7a34b8b4bcc81d'\n",
            " b'd541b4c39398bfcb01bdc57847f65e17' b'18d3ef70649fe98c03b4d3b7109389e8'\n",
            " b'18a0529dfa15d7b98adcd0a5f9e8ba54' b'4fcd00a43d6ef6f4e323323c7c6bf264'\n",
            " b'de85f640d844fa52cc5c2dfdd46eeac3' b'62a351b0295ab0fcf79276c5c62573c3'\n",
            " b'beec0928d352f0e5939f876c3674fb33' b'8d22721eb56e7592c0c8cc707f11db5f'\n",
            " b'bd4ba5f2962d07b97b7c7dfbf69ef6a0' b'52cd72795214430cb75e12f9d504183f'], shape=(32,), dtype=string)\n",
            "A batch of targets: tf.Tensor([1 0 0 0 1 0 1 1 0 0 1 1 1 1 0 1 1 0 1 0 1 1 1 0 1 0 0 1 0 1 0 1], shape=(32,), dtype=int64)\n"
          ],
          "name": "stdout"
        }
      ]
    },
    {
      "cell_type": "markdown",
      "metadata": {
        "id": "Q7-INmUH2Mw0"
      },
      "source": [
        "## Train, Evaluate and Save Model"
      ]
    },
    {
      "cell_type": "code",
      "metadata": {
        "id": "rHV_JLOd2en6"
      },
      "source": [
        "# Let's create a function that will build our model (we can easily tweak this function)\n",
        "BATCH_SIZE = 32\n",
        "def build_model(feature_columns, n_hidden = 2, n_neurons = 300):\n",
        "  \"\"\"\n",
        "  \"\"\"\n",
        "  model = tf.keras.models.Sequential()\n",
        "  model.add(feature_columns)\n",
        "  for layer in range(n_hidden):\n",
        "    model.add(tf.keras.layers.BatchNormalization())\n",
        "    model.add(tf.keras.layers.Dense(n_neurons, activation = 'relu'))\n",
        "  model.add(tf.keras.layers.Dense(1, activation='sigmoid'))\n",
        "  model.compile(loss='binary_crossentropy', optimizer = tf.optimizers.SGD(lr=0.0001),\n",
        "                metrics=['accuracy'])\n",
        "  \n",
        "  return model"
      ],
      "execution_count": null,
      "outputs": []
    },
    {
      "cell_type": "code",
      "metadata": {
        "id": "0i6yoUCi478i"
      },
      "source": [
        "# Let's write a function to train our model\n",
        "import datetime\n",
        "import os\n",
        "early_stopping_cb = tf.keras.callbacks.EarlyStopping(patience=10)\n",
        "model_checkpoint_cb = tf.keras.callbacks.ModelCheckpoint('chris_model.h5')\n",
        "log_dir = os.path.join('/content/drive/My Drive/Malware Detector/logs',\n",
        "                       datetime.datetime.now().strftime('%y%m%d-%H%M%S'))\n",
        "tensorboard_cb = tf.keras.callbacks.TensorBoard(log_dir)\n",
        "callbacks = [early_stopping_cb, model_checkpoint_cb, tensorboard_cb]\n",
        "\n",
        "def train_model(train_data, valid_data, callbacks, feature_columns):\n",
        "  \"\"\"\n",
        "  Takes in train_data, valid_data, callbacks, preprocessing_layer as\n",
        "  args and trains our model\n",
        "  \"\"\"\n",
        "  # create the model\n",
        "  \n",
        "  model = build_model(feature_columns)\n",
        "  # Fit the model to the data passing it the callbacks we created\n",
        "  model.fit(train_data, validation_data=valid_data,\n",
        "            epochs=100, callbacks=callbacks)\n",
        "  return model"
      ],
      "execution_count": null,
      "outputs": []
    },
    {
      "cell_type": "code",
      "metadata": {
        "id": "EkJSmuXZ5F6Q"
      },
      "source": [
        "# Create a function to save a model\n",
        "def save_model(model, suffix=None):\n",
        "  \"\"\"\n",
        "  Saves a  model in a given model directory and appends a suffix(string).\n",
        "  \"\"\"\n",
        "  # Create a model directory pathname with current time\n",
        "  modeldir = os.path.join(\"/content/drive/My Drive/Malware Detector/models\",\n",
        "                           datetime.datetime.now().strftime(\"%Y%m%d-%H%M%S\"))\n",
        "  model_path = modeldir + \"-\" + suffix + \".h5\"  # save format of model\n",
        "  print(f\"Saving model to: {model_path}...\")\n",
        "  model.save(model_path)\n",
        "  return model_path\n",
        "\n",
        "  # Create a function to load a trained model\n",
        "def load_model(model_path):\n",
        "  \"\"\"\n",
        "  Loads a saved model from a specifid path.\n",
        "  \"\"\"\n",
        "  print(f\"Loading saved model from: {model_path}...\")\n",
        "  model = tf.keras.models.load_model(model_path,\n",
        "                                     custom_objects={'KerasLayer': hub.KerasLayer})\n",
        "  return model"
      ],
      "execution_count": null,
      "outputs": []
    },
    {
      "cell_type": "code",
      "metadata": {
        "id": "XZxdQ2Pz51LV",
        "colab": {
          "base_uri": "https://localhost:8080/",
          "height": 581
        },
        "outputId": "ff8d4bd9-8d38-4294-a181-2f45d6b20a65"
      },
      "source": [
        "# Let's train our model\n",
        "model = train_model(train_data = train_set, valid_data = valid_set, callbacks = callbacks, feature_columns = feature_columns)\n"
      ],
      "execution_count": null,
      "outputs": [
        {
          "output_type": "stream",
          "text": [
            "Epoch 1/100\n",
            "WARNING:tensorflow:Layer dense_features is casting an input tensor from dtype float64 to the layer's dtype of float32, which is new behavior in TensorFlow 2.  The layer has dtype float32 because it's dtype defaults to floatx.\n",
            "\n",
            "If you intended to run this layer in float32, you can safely ignore this warning. If in doubt, this warning is likely only an issue if you are porting a TensorFlow 1.X model to TensorFlow 2.\n",
            "\n",
            "To change all layers to have dtype float64 by default, call `tf.keras.backend.set_floatx('float64')`. To change just this layer, pass dtype='float64' to the layer constructor. If you are the author of this layer, you can disable autocasting by passing autocast=False to the base Layer constructor.\n",
            "\n",
            "6339/6339 [==============================] - 120s 19ms/step - loss: 0.0508 - accuracy: 0.9917 - val_loss: 0.5166 - val_accuracy: 0.9935\n",
            "Epoch 2/100\n",
            "6339/6339 [==============================] - 119s 19ms/step - loss: 0.0098 - accuracy: 0.9996 - val_loss: 0.4303 - val_accuracy: 0.9977\n",
            "Epoch 3/100\n",
            "6339/6339 [==============================] - 120s 19ms/step - loss: 0.0058 - accuracy: 0.9998 - val_loss: 0.0574 - val_accuracy: 0.9984\n",
            "Epoch 4/100\n",
            "6339/6339 [==============================] - 120s 19ms/step - loss: 0.0041 - accuracy: 0.9999 - val_loss: 0.3502 - val_accuracy: 0.9990\n",
            "Epoch 5/100\n",
            "6339/6339 [==============================] - 120s 19ms/step - loss: 0.0032 - accuracy: 1.0000 - val_loss: 0.4635 - val_accuracy: 0.9993\n",
            "Epoch 6/100\n",
            "6339/6339 [==============================] - 120s 19ms/step - loss: 0.0026 - accuracy: 1.0000 - val_loss: 0.3673 - val_accuracy: 0.9993\n",
            "Epoch 7/100\n",
            "6339/6339 [==============================] - 119s 19ms/step - loss: 0.0022 - accuracy: 1.0000 - val_loss: 0.3529 - val_accuracy: 0.9994\n",
            "Epoch 8/100\n",
            "6339/6339 [==============================] - 120s 19ms/step - loss: 0.0020 - accuracy: 1.0000 - val_loss: 0.3709 - val_accuracy: 0.9994\n",
            "Epoch 9/100\n",
            "6339/6339 [==============================] - 119s 19ms/step - loss: 0.0017 - accuracy: 1.0000 - val_loss: 0.3131 - val_accuracy: 0.9996\n",
            "Epoch 10/100\n",
            "6339/6339 [==============================] - 119s 19ms/step - loss: 0.0016 - accuracy: 1.0000 - val_loss: 0.3459 - val_accuracy: 0.9995\n",
            "Epoch 11/100\n",
            "6339/6339 [==============================] - 120s 19ms/step - loss: 0.0014 - accuracy: 1.0000 - val_loss: 0.2681 - val_accuracy: 0.9995\n",
            "Epoch 12/100\n",
            "6339/6339 [==============================] - 119s 19ms/step - loss: 0.0013 - accuracy: 1.0000 - val_loss: 0.2936 - val_accuracy: 0.9996\n",
            "Epoch 13/100\n",
            "6339/6339 [==============================] - 120s 19ms/step - loss: 0.0012 - accuracy: 1.0000 - val_loss: 0.1281 - val_accuracy: 0.9996\n"
          ],
          "name": "stdout"
        }
      ]
    },
    {
      "cell_type": "code",
      "metadata": {
        "id": "rB5pbl1w8w2S",
        "colab": {
          "base_uri": "https://localhost:8080/",
          "height": 51
        },
        "outputId": "425fbb80-db19-4be5-de5d-e61d044c1c09"
      },
      "source": [
        "model.evaluate(valid_set)"
      ],
      "execution_count": null,
      "outputs": [
        {
          "output_type": "stream",
          "text": [
            "1585/1585 [==============================] - 12s 8ms/step - loss: 0.1281 - accuracy: 0.9996\n"
          ],
          "name": "stdout"
        },
        {
          "output_type": "execute_result",
          "data": {
            "text/plain": [
              "[0.12805557250976562, 0.9996252655982971]"
            ]
          },
          "metadata": {
            "tags": []
          },
          "execution_count": 31
        }
      ]
    },
    {
      "cell_type": "markdown",
      "metadata": {
        "id": "9BJ1xHUB87Jj"
      },
      "source": [
        "So we've gotten about 100% accuracy, let's make predictinos on test data"
      ]
    },
    {
      "cell_type": "code",
      "metadata": {
        "id": "FbqsQifQ9Icf",
        "colab": {
          "base_uri": "https://localhost:8080/",
          "height": 52
        },
        "outputId": "bc5dbbb2-1eab-4597-81e2-9b269e2575b0"
      },
      "source": [
        "# Let's save the model\n",
        "save_model(model, suffix='malware_detector')"
      ],
      "execution_count": null,
      "outputs": [
        {
          "output_type": "stream",
          "text": [
            "Saving model to: /content/drive/My Drive/Malware Detector/models/20200708-150437-malware_detector.h5...\n"
          ],
          "name": "stdout"
        },
        {
          "output_type": "execute_result",
          "data": {
            "application/vnd.google.colaboratory.intrinsic": {
              "type": "string"
            },
            "text/plain": [
              "'/content/drive/My Drive/Malware Detector/models/20200708-150437-malware_detector.h5'"
            ]
          },
          "metadata": {
            "tags": []
          },
          "execution_count": 32
        }
      ]
    },
    {
      "cell_type": "code",
      "metadata": {
        "id": "6skoNKCu9wBM"
      },
      "source": [
        "# Let's make some predictions\n",
        "predictions = model.predict(test_set)"
      ],
      "execution_count": null,
      "outputs": []
    },
    {
      "cell_type": "code",
      "metadata": {
        "id": "7Jll0vqT-pR-",
        "colab": {
          "base_uri": "https://localhost:8080/",
          "height": 136
        },
        "outputId": "7b095578-0c8e-4144-c22d-39e832b755bd"
      },
      "source": [
        "predictions"
      ],
      "execution_count": null,
      "outputs": [
        {
          "output_type": "execute_result",
          "data": {
            "text/plain": [
              "array([[2.4384554e-02],\n",
              "       [2.1067866e-04],\n",
              "       [1.4872978e-03],\n",
              "       ...,\n",
              "       [9.9193209e-01],\n",
              "       [9.6464360e-01],\n",
              "       [9.9816543e-01]], dtype=float32)"
            ]
          },
          "metadata": {
            "tags": []
          },
          "execution_count": 37
        }
      ]
    },
    {
      "cell_type": "code",
      "metadata": {
        "id": "Bsl-46kT-r-r",
        "colab": {
          "base_uri": "https://localhost:8080/",
          "height": 187
        },
        "outputId": "c4660db2-6fea-41f5-900a-1a898a8930c9"
      },
      "source": [
        "predictions = model.predict(test_set)\n",
        "# Show some results\n",
        "for prediction, malware in zip(predictions[:10], list(test_set)[0][1][:10]):\n",
        "  prediction = tf.sigmoid(prediction).numpy()\n",
        "  print(\"Predicted malware: {:.2%}\".format(prediction[0]),\n",
        "        \" | Actual outcome: \",\n",
        "        (\"MALWARE\" if bool(malware) else \"LEGITIMATE\"))"
      ],
      "execution_count": null,
      "outputs": [
        {
          "output_type": "stream",
          "text": [
            "Predicted malware: 50.61%  | Actual outcome:  LEGITIMATE\n",
            "Predicted malware: 50.01%  | Actual outcome:  LEGITIMATE\n",
            "Predicted malware: 50.04%  | Actual outcome:  LEGITIMATE\n",
            "Predicted malware: 50.01%  | Actual outcome:  LEGITIMATE\n",
            "Predicted malware: 72.85%  | Actual outcome:  MALWARE\n",
            "Predicted malware: 50.01%  | Actual outcome:  LEGITIMATE\n",
            "Predicted malware: 73.09%  | Actual outcome:  MALWARE\n",
            "Predicted malware: 73.09%  | Actual outcome:  MALWARE\n",
            "Predicted malware: 73.10%  | Actual outcome:  MALWARE\n",
            "Predicted malware: 50.50%  | Actual outcome:  LEGITIMATE\n"
          ],
          "name": "stdout"
        }
      ]
    },
    {
      "cell_type": "code",
      "metadata": {
        "id": "kip5GhtT_F_3"
      },
      "source": [
        ""
      ],
      "execution_count": null,
      "outputs": []
    }
  ]
}